{
 "cells": [
  {
   "cell_type": "code",
   "execution_count": 104,
   "id": "aa005c28-2d64-40bb-ae83-1959a704805a",
   "metadata": {},
   "outputs": [],
   "source": [
    "import pandas as pd\n",
    "import matplotlib.pyplot as plt\n",
    "import seaborn as sns\n",
    "import numpy as np"
   ]
  },
  {
   "cell_type": "code",
   "execution_count": 2,
   "id": "6d34b453-70a8-4c9c-b76c-4f03dcc23898",
   "metadata": {},
   "outputs": [],
   "source": [
    "ds = pd.read_csv(r\"C:\\Users\\mouav\\OneDrive\\Desktop\\carprice\\car_price.csv\")"
   ]
  },
  {
   "cell_type": "code",
   "execution_count": 91,
   "id": "176595be-a197-41ed-a8d6-c300aa745465",
   "metadata": {},
   "outputs": [
    {
     "data": {
      "text/html": [
       "<div>\n",
       "<style scoped>\n",
       "    .dataframe tbody tr th:only-of-type {\n",
       "        vertical-align: middle;\n",
       "    }\n",
       "\n",
       "    .dataframe tbody tr th {\n",
       "        vertical-align: top;\n",
       "    }\n",
       "\n",
       "    .dataframe thead th {\n",
       "        text-align: right;\n",
       "    }\n",
       "</style>\n",
       "<table border=\"1\" class=\"dataframe\">\n",
       "  <thead>\n",
       "    <tr style=\"text-align: right;\">\n",
       "      <th></th>\n",
       "      <th>car_name</th>\n",
       "      <th>car_prices_in_rupee</th>\n",
       "      <th>kms_driven</th>\n",
       "      <th>fuel_type</th>\n",
       "      <th>transmission</th>\n",
       "      <th>ownership</th>\n",
       "      <th>engine</th>\n",
       "      <th>Seats</th>\n",
       "      <th></th>\n",
       "      <th>company_name</th>\n",
       "      <th>manufacture year</th>\n",
       "    </tr>\n",
       "  </thead>\n",
       "  <tbody>\n",
       "    <tr>\n",
       "      <th>0</th>\n",
       "      <td>426</td>\n",
       "      <td>100300.0</td>\n",
       "      <td>86226</td>\n",
       "      <td>1</td>\n",
       "      <td>Manual</td>\n",
       "      <td>1</td>\n",
       "      <td>86226</td>\n",
       "      <td>5</td>\n",
       "      <td>Jeep</td>\n",
       "      <td>Jeep</td>\n",
       "      <td>1970</td>\n",
       "    </tr>\n",
       "    <tr>\n",
       "      <th>1</th>\n",
       "      <td>509</td>\n",
       "      <td>128300.0</td>\n",
       "      <td>13248</td>\n",
       "      <td>4</td>\n",
       "      <td>Automatic</td>\n",
       "      <td>1</td>\n",
       "      <td>13248</td>\n",
       "      <td>5</td>\n",
       "      <td>Renault</td>\n",
       "      <td>Renault</td>\n",
       "      <td>1970</td>\n",
       "    </tr>\n",
       "    <tr>\n",
       "      <th>2</th>\n",
       "      <td>290</td>\n",
       "      <td>164000.0</td>\n",
       "      <td>60343</td>\n",
       "      <td>4</td>\n",
       "      <td>Automatic</td>\n",
       "      <td>1</td>\n",
       "      <td>60343</td>\n",
       "      <td>5</td>\n",
       "      <td>Toyota</td>\n",
       "      <td>Toyota</td>\n",
       "      <td>1970</td>\n",
       "    </tr>\n",
       "  </tbody>\n",
       "</table>\n",
       "</div>"
      ],
      "text/plain": [
       "   car_name  car_prices_in_rupee kms_driven  fuel_type transmission  \\\n",
       "0       426             100300.0      86226          1       Manual   \n",
       "1       509             128300.0      13248          4    Automatic   \n",
       "2       290             164000.0      60343          4    Automatic   \n",
       "\n",
       "   ownership engine Seats          company_name  manufacture year  \n",
       "0          1  86226     5     Jeep         Jeep              1970  \n",
       "1          1  13248     5  Renault      Renault              1970  \n",
       "2          1  60343     5   Toyota       Toyota              1970  "
      ]
     },
     "execution_count": 91,
     "metadata": {},
     "output_type": "execute_result"
    }
   ],
   "source": [
    "ds.head(3)"
   ]
  },
  {
   "cell_type": "markdown",
   "id": "31a31f3d-4ef2-4618-ba1b-daf0317c44c1",
   "metadata": {},
   "source": [
    "# Data Analysis Cleaning"
   ]
  },
  {
   "cell_type": "code",
   "execution_count": 5,
   "id": "82de7ca4-344b-41bb-99dd-5a897d662be1",
   "metadata": {},
   "outputs": [
    {
     "name": "stdout",
     "output_type": "stream",
     "text": [
      "<class 'pandas.core.frame.DataFrame'>\n",
      "RangeIndex: 5512 entries, 0 to 5511\n",
      "Data columns (total 10 columns):\n",
      " #   Column               Non-Null Count  Dtype \n",
      "---  ------               --------------  ----- \n",
      " 0   Unnamed: 0           5512 non-null   int64 \n",
      " 1   car_name             5512 non-null   object\n",
      " 2   car_prices_in_rupee  5512 non-null   object\n",
      " 3   kms_driven           5512 non-null   object\n",
      " 4   fuel_type            5512 non-null   object\n",
      " 5   transmission         5512 non-null   object\n",
      " 6   ownership            5512 non-null   object\n",
      " 7   manufacture          5512 non-null   int64 \n",
      " 8   engine               5512 non-null   object\n",
      " 9   Seats                5512 non-null   object\n",
      "dtypes: int64(2), object(8)\n",
      "memory usage: 430.8+ KB\n"
     ]
    }
   ],
   "source": [
    "ds.info()"
   ]
  },
  {
   "cell_type": "code",
   "execution_count": 19,
   "id": "eb388070-181c-4ee5-888a-c9a9604bc040",
   "metadata": {},
   "outputs": [],
   "source": [
    "# Removing unused column\n",
    "ds.drop('Unnamed: 0', axis=1, inplace=True)"
   ]
  },
  {
   "cell_type": "code",
   "execution_count": 92,
   "id": "d26a57d6-e030-4328-ba36-e317de1ea191",
   "metadata": {},
   "outputs": [
    {
     "data": {
      "text/html": [
       "<div>\n",
       "<style scoped>\n",
       "    .dataframe tbody tr th:only-of-type {\n",
       "        vertical-align: middle;\n",
       "    }\n",
       "\n",
       "    .dataframe tbody tr th {\n",
       "        vertical-align: top;\n",
       "    }\n",
       "\n",
       "    .dataframe thead th {\n",
       "        text-align: right;\n",
       "    }\n",
       "</style>\n",
       "<table border=\"1\" class=\"dataframe\">\n",
       "  <thead>\n",
       "    <tr style=\"text-align: right;\">\n",
       "      <th></th>\n",
       "      <th>car_name</th>\n",
       "      <th>car_prices_in_rupee</th>\n",
       "      <th>kms_driven</th>\n",
       "      <th>fuel_type</th>\n",
       "      <th>transmission</th>\n",
       "      <th>ownership</th>\n",
       "      <th>engine</th>\n",
       "      <th>Seats</th>\n",
       "      <th></th>\n",
       "      <th>company_name</th>\n",
       "      <th>manufacture year</th>\n",
       "    </tr>\n",
       "  </thead>\n",
       "  <tbody>\n",
       "    <tr>\n",
       "      <th>0</th>\n",
       "      <td>426</td>\n",
       "      <td>100300.0</td>\n",
       "      <td>86226</td>\n",
       "      <td>1</td>\n",
       "      <td>Manual</td>\n",
       "      <td>1</td>\n",
       "      <td>86226</td>\n",
       "      <td>5</td>\n",
       "      <td>Jeep</td>\n",
       "      <td>Jeep</td>\n",
       "      <td>1970</td>\n",
       "    </tr>\n",
       "    <tr>\n",
       "      <th>1</th>\n",
       "      <td>509</td>\n",
       "      <td>128300.0</td>\n",
       "      <td>13248</td>\n",
       "      <td>4</td>\n",
       "      <td>Automatic</td>\n",
       "      <td>1</td>\n",
       "      <td>13248</td>\n",
       "      <td>5</td>\n",
       "      <td>Renault</td>\n",
       "      <td>Renault</td>\n",
       "      <td>1970</td>\n",
       "    </tr>\n",
       "    <tr>\n",
       "      <th>2</th>\n",
       "      <td>290</td>\n",
       "      <td>164000.0</td>\n",
       "      <td>60343</td>\n",
       "      <td>4</td>\n",
       "      <td>Automatic</td>\n",
       "      <td>1</td>\n",
       "      <td>60343</td>\n",
       "      <td>5</td>\n",
       "      <td>Toyota</td>\n",
       "      <td>Toyota</td>\n",
       "      <td>1970</td>\n",
       "    </tr>\n",
       "  </tbody>\n",
       "</table>\n",
       "</div>"
      ],
      "text/plain": [
       "   car_name  car_prices_in_rupee kms_driven  fuel_type transmission  \\\n",
       "0       426             100300.0      86226          1       Manual   \n",
       "1       509             128300.0      13248          4    Automatic   \n",
       "2       290             164000.0      60343          4    Automatic   \n",
       "\n",
       "   ownership engine Seats          company_name  manufacture year  \n",
       "0          1  86226     5     Jeep         Jeep              1970  \n",
       "1          1  13248     5  Renault      Renault              1970  \n",
       "2          1  60343     5   Toyota       Toyota              1970  "
      ]
     },
     "execution_count": 92,
     "metadata": {},
     "output_type": "execute_result"
    }
   ],
   "source": [
    "ds.head(3)"
   ]
  },
  {
   "cell_type": "code",
   "execution_count": 7,
   "id": "024abe83-05f5-4bed-ab3f-f6fa17b9071a",
   "metadata": {},
   "outputs": [
    {
     "data": {
      "text/html": [
       "<div>\n",
       "<style scoped>\n",
       "    .dataframe tbody tr th:only-of-type {\n",
       "        vertical-align: middle;\n",
       "    }\n",
       "\n",
       "    .dataframe tbody tr th {\n",
       "        vertical-align: top;\n",
       "    }\n",
       "\n",
       "    .dataframe thead th {\n",
       "        text-align: right;\n",
       "    }\n",
       "</style>\n",
       "<table border=\"1\" class=\"dataframe\">\n",
       "  <thead>\n",
       "    <tr style=\"text-align: right;\">\n",
       "      <th></th>\n",
       "      <th>Unnamed: 0</th>\n",
       "      <th>manufacture</th>\n",
       "    </tr>\n",
       "  </thead>\n",
       "  <tbody>\n",
       "    <tr>\n",
       "      <th>count</th>\n",
       "      <td>5512.000000</td>\n",
       "      <td>5512.000000</td>\n",
       "    </tr>\n",
       "    <tr>\n",
       "      <th>mean</th>\n",
       "      <td>2755.500000</td>\n",
       "      <td>2015.455552</td>\n",
       "    </tr>\n",
       "    <tr>\n",
       "      <th>std</th>\n",
       "      <td>1591.321673</td>\n",
       "      <td>3.927974</td>\n",
       "    </tr>\n",
       "    <tr>\n",
       "      <th>min</th>\n",
       "      <td>0.000000</td>\n",
       "      <td>1995.000000</td>\n",
       "    </tr>\n",
       "    <tr>\n",
       "      <th>25%</th>\n",
       "      <td>1377.750000</td>\n",
       "      <td>2013.000000</td>\n",
       "    </tr>\n",
       "    <tr>\n",
       "      <th>50%</th>\n",
       "      <td>2755.500000</td>\n",
       "      <td>2016.000000</td>\n",
       "    </tr>\n",
       "    <tr>\n",
       "      <th>75%</th>\n",
       "      <td>4133.250000</td>\n",
       "      <td>2018.000000</td>\n",
       "    </tr>\n",
       "    <tr>\n",
       "      <th>max</th>\n",
       "      <td>5511.000000</td>\n",
       "      <td>2022.000000</td>\n",
       "    </tr>\n",
       "  </tbody>\n",
       "</table>\n",
       "</div>"
      ],
      "text/plain": [
       "        Unnamed: 0  manufacture\n",
       "count  5512.000000  5512.000000\n",
       "mean   2755.500000  2015.455552\n",
       "std    1591.321673     3.927974\n",
       "min       0.000000  1995.000000\n",
       "25%    1377.750000  2013.000000\n",
       "50%    2755.500000  2016.000000\n",
       "75%    4133.250000  2018.000000\n",
       "max    5511.000000  2022.000000"
      ]
     },
     "execution_count": 7,
     "metadata": {},
     "output_type": "execute_result"
    }
   ],
   "source": [
    "ds.describe()"
   ]
  },
  {
   "cell_type": "markdown",
   "id": "507874a5-cf2a-4643-9088-4471b9b455db",
   "metadata": {},
   "source": [
    "#CAR_NAME"
   ]
  },
  {
   "cell_type": "code",
   "execution_count": 8,
   "id": "52540c7a-aa4b-4e0b-9ff3-4ac7f433e35d",
   "metadata": {},
   "outputs": [
    {
     "data": {
      "text/plain": [
       "0       Jeep Compass 2.0 Longitude Option BSIV\n",
       "1                 Renault Duster RXZ Turbo CVT\n",
       "2                           Toyota Camry 2.5 G\n",
       "3                            Honda Jazz VX CVT\n",
       "4             Volkswagen Polo 1.2 MPI Highline\n",
       "                         ...                  \n",
       "5507                   BMW X1 sDrive 20d xLine\n",
       "5508                     BMW M Series M4 Coupe\n",
       "5509                Jaguar XF 2.2 Litre Luxury\n",
       "5510                        BMW 7 Series 730Ld\n",
       "5511                 BMW 5 Series 520d M Sport\n",
       "Name: car_name, Length: 5512, dtype: object"
      ]
     },
     "execution_count": 8,
     "metadata": {},
     "output_type": "execute_result"
    }
   ],
   "source": [
    "ds['car_name']"
   ]
  },
  {
   "cell_type": "code",
   "execution_count": 9,
   "id": "68529468-cf24-4b51-b795-ce250297db7f",
   "metadata": {},
   "outputs": [
    {
     "data": {
      "text/plain": [
       "'Jeep Compass 2.0 Longitude Option BSIV'"
      ]
     },
     "execution_count": 9,
     "metadata": {},
     "output_type": "execute_result"
    }
   ],
   "source": [
    "ds['car_name'][0]"
   ]
  },
  {
   "cell_type": "code",
   "execution_count": 10,
   "id": "ac0ed05e-1021-4d1b-89e8-d39ac86e8b1d",
   "metadata": {},
   "outputs": [],
   "source": [
    "#Separating name of company and car model using slicing"
   ]
  },
  {
   "cell_type": "code",
   "execution_count": 11,
   "id": "955f6d22-d799-4620-ba4a-17a3f5595391",
   "metadata": {},
   "outputs": [
    {
     "data": {
      "text/plain": [
       "'Jeep'"
      ]
     },
     "execution_count": 11,
     "metadata": {},
     "output_type": "execute_result"
    }
   ],
   "source": [
    "x =ds['car_name'][0]\n",
    "x[:x.index(\" \")]"
   ]
  },
  {
   "cell_type": "code",
   "execution_count": 12,
   "id": "533a5754-2550-47ed-b0de-5ef5e72e4cd4",
   "metadata": {},
   "outputs": [],
   "source": [
    "def company_name(x):\n",
    "    return x[:x.index(\" \")]"
   ]
  },
  {
   "cell_type": "code",
   "execution_count": 21,
   "id": "f6b3fdc7-4134-41f3-96b8-b1c57aa82443",
   "metadata": {},
   "outputs": [],
   "source": [
    "ds[\"company_name\"]=ds[\"car_name\"].apply(company_name)"
   ]
  },
  {
   "cell_type": "code",
   "execution_count": 93,
   "id": "4968cb9b-d005-4eb3-b183-162dcca3aee7",
   "metadata": {},
   "outputs": [
    {
     "data": {
      "text/html": [
       "<div>\n",
       "<style scoped>\n",
       "    .dataframe tbody tr th:only-of-type {\n",
       "        vertical-align: middle;\n",
       "    }\n",
       "\n",
       "    .dataframe tbody tr th {\n",
       "        vertical-align: top;\n",
       "    }\n",
       "\n",
       "    .dataframe thead th {\n",
       "        text-align: right;\n",
       "    }\n",
       "</style>\n",
       "<table border=\"1\" class=\"dataframe\">\n",
       "  <thead>\n",
       "    <tr style=\"text-align: right;\">\n",
       "      <th></th>\n",
       "      <th>car_name</th>\n",
       "      <th>car_prices_in_rupee</th>\n",
       "      <th>kms_driven</th>\n",
       "      <th>fuel_type</th>\n",
       "      <th>transmission</th>\n",
       "      <th>ownership</th>\n",
       "      <th>engine</th>\n",
       "      <th>Seats</th>\n",
       "      <th></th>\n",
       "      <th>company_name</th>\n",
       "      <th>manufacture year</th>\n",
       "    </tr>\n",
       "  </thead>\n",
       "  <tbody>\n",
       "    <tr>\n",
       "      <th>0</th>\n",
       "      <td>426</td>\n",
       "      <td>100300.0</td>\n",
       "      <td>86226</td>\n",
       "      <td>1</td>\n",
       "      <td>Manual</td>\n",
       "      <td>1</td>\n",
       "      <td>86226</td>\n",
       "      <td>5</td>\n",
       "      <td>Jeep</td>\n",
       "      <td>Jeep</td>\n",
       "      <td>1970</td>\n",
       "    </tr>\n",
       "    <tr>\n",
       "      <th>1</th>\n",
       "      <td>509</td>\n",
       "      <td>128300.0</td>\n",
       "      <td>13248</td>\n",
       "      <td>4</td>\n",
       "      <td>Automatic</td>\n",
       "      <td>1</td>\n",
       "      <td>13248</td>\n",
       "      <td>5</td>\n",
       "      <td>Renault</td>\n",
       "      <td>Renault</td>\n",
       "      <td>1970</td>\n",
       "    </tr>\n",
       "    <tr>\n",
       "      <th>2</th>\n",
       "      <td>290</td>\n",
       "      <td>164000.0</td>\n",
       "      <td>60343</td>\n",
       "      <td>4</td>\n",
       "      <td>Automatic</td>\n",
       "      <td>1</td>\n",
       "      <td>60343</td>\n",
       "      <td>5</td>\n",
       "      <td>Toyota</td>\n",
       "      <td>Toyota</td>\n",
       "      <td>1970</td>\n",
       "    </tr>\n",
       "  </tbody>\n",
       "</table>\n",
       "</div>"
      ],
      "text/plain": [
       "   car_name  car_prices_in_rupee kms_driven  fuel_type transmission  \\\n",
       "0       426             100300.0      86226          1       Manual   \n",
       "1       509             128300.0      13248          4    Automatic   \n",
       "2       290             164000.0      60343          4    Automatic   \n",
       "\n",
       "   ownership engine Seats          company_name  manufacture year  \n",
       "0          1  86226     5     Jeep         Jeep              1970  \n",
       "1          1  13248     5  Renault      Renault              1970  \n",
       "2          1  60343     5   Toyota       Toyota              1970  "
      ]
     },
     "execution_count": 93,
     "metadata": {},
     "output_type": "execute_result"
    }
   ],
   "source": [
    "ds.head(3)"
   ]
  },
  {
   "cell_type": "code",
   "execution_count": 27,
   "id": "ce4dd575-98b2-403f-9dab-acd89c823ac6",
   "metadata": {},
   "outputs": [],
   "source": [
    "def car2_name(x):\n",
    "    return x[x.index(\" \")+1:]"
   ]
  },
  {
   "cell_type": "code",
   "execution_count": 29,
   "id": "49baecd5-7b51-4d8e-b554-5482c479b8e7",
   "metadata": {},
   "outputs": [],
   "source": [
    " ds[\"car_name\"]=ds[\"car_name\"].apply(car2_name)"
   ]
  },
  {
   "cell_type": "markdown",
   "id": "b48d3f49-8b99-4712-81e1-1ca9f1577b5b",
   "metadata": {},
   "source": [
    "#car_prices_in_rupee"
   ]
  },
  {
   "cell_type": "code",
   "execution_count": null,
   "id": "aabbd7d3-4d7a-48f0-a338-da53d4f7416c",
   "metadata": {},
   "outputs": [],
   "source": [
    "# We have to set price in one format instead of Lakh, Crore and Thousands"
   ]
  },
  {
   "cell_type": "code",
   "execution_count": 35,
   "id": "20236183-78a0-48f8-b3f5-d35051b45f9d",
   "metadata": {},
   "outputs": [],
   "source": [
    "ds['car_prices_in_rupee']=ds['car_prices_in_rupee'].str.replace(\",\",\"\")"
   ]
  },
  {
   "cell_type": "code",
   "execution_count": null,
   "id": "ce08f161-ef5c-45e9-b2f0-b3f5b38ed88f",
   "metadata": {},
   "outputs": [],
   "source": [
    "#"
   ]
  },
  {
   "cell_type": "code",
   "execution_count": 46,
   "id": "1bc4fb8c-25f9-43bc-bd38-faf0dc54d955",
   "metadata": {},
   "outputs": [],
   "source": [
    "def rupe_change(x):\n",
    "    p=x.split(\" \")\n",
    "    try:\n",
    "        if p[1] == \"Lakh\":\n",
    "            return str(round(float(p[0])*10000,1))\n",
    "        elif p[1] ==\"Crore\":\n",
    "            return str(round(float(p[0])*10000000,1))\n",
    "    except :\n",
    "         return x\n",
    "    "
   ]
  },
  {
   "cell_type": "code",
   "execution_count": 48,
   "id": "85bb98c9-631e-4d32-9bcf-754bd6b2d13b",
   "metadata": {},
   "outputs": [],
   "source": [
    "ds['car_prices_in_rupee']=ds['car_prices_in_rupee'].apply(rupe_change)"
   ]
  },
  {
   "cell_type": "code",
   "execution_count": 51,
   "id": "7ce66d18-6d56-4237-8a1f-f3769dae7176",
   "metadata": {},
   "outputs": [
    {
     "data": {
      "text/plain": [
       "0       100300.0\n",
       "1       128300.0\n",
       "2       164000.0\n",
       "3        77700.0\n",
       "4        51500.0\n",
       "          ...   \n",
       "5507    289000.0\n",
       "5508    649000.0\n",
       "5509    137500.0\n",
       "5510    299000.0\n",
       "5511    319000.0\n",
       "Name: car_prices_in_rupee, Length: 5512, dtype: object"
      ]
     },
     "execution_count": 51,
     "metadata": {},
     "output_type": "execute_result"
    }
   ],
   "source": [
    "ds['car_prices_in_rupee']"
   ]
  },
  {
   "cell_type": "code",
   "execution_count": null,
   "id": "7a9e5fbe-df24-47b4-980d-2049066482f2",
   "metadata": {},
   "outputs": [],
   "source": [
    "# Above Our data of price now changed into one format"
   ]
  },
  {
   "cell_type": "code",
   "execution_count": 50,
   "id": "b2227c5b-31ff-4a5d-adc6-ba781c27062b",
   "metadata": {},
   "outputs": [
    {
     "name": "stdout",
     "output_type": "stream",
     "text": [
      "<class 'pandas.core.frame.DataFrame'>\n",
      "RangeIndex: 5512 entries, 0 to 5511\n",
      "Data columns (total 11 columns):\n",
      " #   Column               Non-Null Count  Dtype \n",
      "---  ------               --------------  ----- \n",
      " 0   car_name             5512 non-null   object\n",
      " 1   car_prices_in_rupee  5389 non-null   object\n",
      " 2   kms_driven           5512 non-null   object\n",
      " 3   fuel_type            5512 non-null   object\n",
      " 4   transmission         5512 non-null   object\n",
      " 5   ownership            5512 non-null   object\n",
      " 6   manufacture          5512 non-null   int64 \n",
      " 7   engine               5512 non-null   object\n",
      " 8   Seats                5512 non-null   object\n",
      " 9                        5512 non-null   object\n",
      " 10  company_name         5512 non-null   object\n",
      "dtypes: int64(1), object(10)\n",
      "memory usage: 473.8+ KB\n"
     ]
    }
   ],
   "source": [
    "ds.info()"
   ]
  },
  {
   "cell_type": "code",
   "execution_count": 52,
   "id": "b13d799f-16f5-4d56-aeea-72c5d2d900c8",
   "metadata": {},
   "outputs": [],
   "source": [
    "# You can see that now it's data type os object we have to change in int64"
   ]
  },
  {
   "cell_type": "code",
   "execution_count": 55,
   "id": "b57e4fce-89f7-401e-9893-946def77c8de",
   "metadata": {},
   "outputs": [],
   "source": [
    "ds['car_prices_in_rupee']=ds['car_prices_in_rupee'].astype('float64')"
   ]
  },
  {
   "cell_type": "markdown",
   "id": "792b8b6b-9c5d-4433-85b0-56f39bfdafae",
   "metadata": {},
   "source": [
    "# KMS_DRIVEN"
   ]
  },
  {
   "cell_type": "code",
   "execution_count": null,
   "id": "1fd66f20-972c-4cea-a98f-1c1466c8ac96",
   "metadata": {},
   "outputs": [],
   "source": []
  },
  {
   "cell_type": "code",
   "execution_count": 57,
   "id": "7f63512c-4e59-4929-9d4f-1c7b044ab4de",
   "metadata": {},
   "outputs": [],
   "source": [
    "ds['kms_driven']=ds['kms_driven'].str.replace(\",\",\"\")\n",
    "ds['kms_driven']=ds['kms_driven'].str.replace(\" kms\",\"\")"
   ]
  },
  {
   "cell_type": "code",
   "execution_count": null,
   "id": "dfbfbf29-5bd7-4e1f-8db6-621e5767c934",
   "metadata": {},
   "outputs": [],
   "source": [
    "# Our data now converted into good format and chnged it's data type"
   ]
  },
  {
   "cell_type": "code",
   "execution_count": 59,
   "id": "228a5bf1-677b-4cc0-b2ea-21e9c76a91be",
   "metadata": {},
   "outputs": [
    {
     "data": {
      "text/plain": [
       "0       86226\n",
       "1       13248\n",
       "2       60343\n",
       "3       26696\n",
       "4       69414\n",
       "        ...  \n",
       "5507    45000\n",
       "5508    29000\n",
       "5509    90000\n",
       "5510    79000\n",
       "5511    42000\n",
       "Name: kms_driven, Length: 5512, dtype: int64"
      ]
     },
     "execution_count": 59,
     "metadata": {},
     "output_type": "execute_result"
    }
   ],
   "source": [
    "ds['kms_driven'].astype(\"int64\")"
   ]
  },
  {
   "cell_type": "markdown",
   "id": "097ac09d-97d6-43bf-94d8-765e37640cac",
   "metadata": {},
   "source": [
    "# Engine"
   ]
  },
  {
   "cell_type": "code",
   "execution_count": 65,
   "id": "5e3023c1-d3e5-463a-b2a7-dea5c2f98aec",
   "metadata": {},
   "outputs": [
    {
     "data": {
      "text/plain": [
       "0       86226\n",
       "1       13248\n",
       "2       60343\n",
       "3       26696\n",
       "4       69414\n",
       "        ...  \n",
       "5507    45000\n",
       "5508    29000\n",
       "5509    90000\n",
       "5510    79000\n",
       "5511    42000\n",
       "Name: engine, Length: 5512, dtype: int64"
      ]
     },
     "execution_count": 65,
     "metadata": {},
     "output_type": "execute_result"
    }
   ],
   "source": [
    "ds['engine']=ds['engine'].str.replace(\" cc\",\"\")\n",
    "ds['engine'].astype(\"int64\")"
   ]
  },
  {
   "cell_type": "code",
   "execution_count": 64,
   "id": "60eceaed-5376-4e17-8834-c8ec42cd9ced",
   "metadata": {},
   "outputs": [
    {
     "data": {
      "text/plain": [
       "0       5\n",
       "1       5\n",
       "2       5\n",
       "3       5\n",
       "4       5\n",
       "       ..\n",
       "5507    7\n",
       "5508    5\n",
       "5509    5\n",
       "5510    6\n",
       "5511    5\n",
       "Name: Seats, Length: 5512, dtype: int64"
      ]
     },
     "execution_count": 64,
     "metadata": {},
     "output_type": "execute_result"
    }
   ],
   "source": [
    "ds['Seats']=ds['Seats'].str.replace(\" Seats\",\"\")\n",
    "ds['Seats'].astype(\"int64\")"
   ]
  },
  {
   "cell_type": "markdown",
   "id": "ae251c25-415a-40a9-99e9-93f860072b85",
   "metadata": {},
   "source": [
    "# Data Cleaning for Machine Learning"
   ]
  },
  {
   "cell_type": "code",
   "execution_count": null,
   "id": "656c1893-fbd8-44e4-b0e0-f4daa396a1a6",
   "metadata": {},
   "outputs": [],
   "source": []
  },
  {
   "cell_type": "markdown",
   "id": "06f4d7e5-5724-4936-808e-c6f0bfdb7f8d",
   "metadata": {},
   "source": [
    "# Encoding Process"
   ]
  },
  {
   "cell_type": "code",
   "execution_count": 74,
   "id": "027ccffd-a0c6-473a-b66b-206a7e20f9f6",
   "metadata": {},
   "outputs": [],
   "source": [
    "from sklearn.preprocessing import LabelEncoder,StandardScaler"
   ]
  },
  {
   "cell_type": "markdown",
   "id": "e8ad105f-930b-4ffe-ab95-92bbe4161d14",
   "metadata": {},
   "source": [
    "# CAR_NAME"
   ]
  },
  {
   "cell_type": "code",
   "execution_count": 76,
   "id": "ffc2d3a1-768f-4a8c-bc19-80b5da24c535",
   "metadata": {},
   "outputs": [
    {
     "data": {
      "text/plain": [
       "array([ 426,  509,  290, ..., 1713,   25,   13])"
      ]
     },
     "execution_count": 76,
     "metadata": {},
     "output_type": "execute_result"
    }
   ],
   "source": [
    "car_name_enc = LabelEncoder()\n",
    "car_name_enc.fit_transform(ds['car_name'])\n"
   ]
  },
  {
   "cell_type": "code",
   "execution_count": 77,
   "id": "45be2169-89df-43dc-81de-da54779ee410",
   "metadata": {},
   "outputs": [],
   "source": [
    "ds['car_name'] =car_name_enc.fit_transform(ds['car_name'])"
   ]
  },
  {
   "cell_type": "markdown",
   "id": "97004e7a-58f0-4d23-ac96-12062950faad",
   "metadata": {},
   "source": [
    "# FUEL_TYPE"
   ]
  },
  {
   "cell_type": "code",
   "execution_count": 85,
   "id": "240fdd25-eb21-4bb1-b53e-618ab045bf3e",
   "metadata": {},
   "outputs": [],
   "source": [
    "fuel_type_enc = LabelEncoder()\n",
    "ds['fuel_type']=fuel_type_enc.fit_transform(ds['fuel_type'])"
   ]
  },
  {
   "cell_type": "markdown",
   "id": "c4f83806-3ce3-4c6b-b35d-8e8c634d76d4",
   "metadata": {},
   "source": [
    "# Transmission"
   ]
  },
  {
   "cell_type": "code",
   "execution_count": 97,
   "id": "dfbf58f9-e8d2-41b6-ab4d-56af433ed62c",
   "metadata": {},
   "outputs": [],
   "source": [
    "transmission_enc = LabelEncoder()\n",
    "ds['transmission']=transmission_enc.fit_transform(ds['transmission'])"
   ]
  },
  {
   "cell_type": "markdown",
   "id": "6b41e4aa-f58e-4c76-8884-4442644bc6a6",
   "metadata": {},
   "source": [
    "# Ownership"
   ]
  },
  {
   "cell_type": "code",
   "execution_count": 86,
   "id": "0087db69-c481-4ab0-b0a7-92b5971383b7",
   "metadata": {},
   "outputs": [],
   "source": [
    "ownership_enc = LabelEncoder()\n",
    "ds['ownership']= ownership_enc.fit_transform(ds['ownership'])"
   ]
  },
  {
   "cell_type": "code",
   "execution_count": 88,
   "id": "0c9c372b-3e9d-4496-b09d-7f6abc24a44f",
   "metadata": {},
   "outputs": [],
   "source": [
    "ds['manufacture year']= ds['manufacture'].dt.year"
   ]
  },
  {
   "cell_type": "code",
   "execution_count": 90,
   "id": "40aa1698-7bda-4d78-aeb0-4498b0a09ba0",
   "metadata": {},
   "outputs": [],
   "source": [
    "# Removing unused column\n",
    "ds.drop('manufacture', axis=1, inplace=True)"
   ]
  },
  {
   "cell_type": "markdown",
   "id": "0bce5d6f-c7ec-43ba-b9f7-6610d306e92d",
   "metadata": {},
   "source": [
    "# Company_Name"
   ]
  },
  {
   "cell_type": "code",
   "execution_count": 95,
   "id": "5ae70a63-fbca-4500-bcdd-f56942285bd8",
   "metadata": {},
   "outputs": [],
   "source": [
    "comp_name_enc = LabelEncoder()\n",
    "ds['company_name']= comp_name_enc.fit_transform(ds['company_name'])"
   ]
  },
  {
   "cell_type": "code",
   "execution_count": 98,
   "id": "3335694f-0283-46b9-be42-81a6f9aad51e",
   "metadata": {},
   "outputs": [
    {
     "data": {
      "text/html": [
       "<div>\n",
       "<style scoped>\n",
       "    .dataframe tbody tr th:only-of-type {\n",
       "        vertical-align: middle;\n",
       "    }\n",
       "\n",
       "    .dataframe tbody tr th {\n",
       "        vertical-align: top;\n",
       "    }\n",
       "\n",
       "    .dataframe thead th {\n",
       "        text-align: right;\n",
       "    }\n",
       "</style>\n",
       "<table border=\"1\" class=\"dataframe\">\n",
       "  <thead>\n",
       "    <tr style=\"text-align: right;\">\n",
       "      <th></th>\n",
       "      <th>car_name</th>\n",
       "      <th>car_prices_in_rupee</th>\n",
       "      <th>kms_driven</th>\n",
       "      <th>fuel_type</th>\n",
       "      <th>transmission</th>\n",
       "      <th>ownership</th>\n",
       "      <th>engine</th>\n",
       "      <th>Seats</th>\n",
       "      <th></th>\n",
       "      <th>company_name</th>\n",
       "      <th>manufacture year</th>\n",
       "    </tr>\n",
       "  </thead>\n",
       "  <tbody>\n",
       "    <tr>\n",
       "      <th>0</th>\n",
       "      <td>426</td>\n",
       "      <td>100300.0</td>\n",
       "      <td>86226</td>\n",
       "      <td>1</td>\n",
       "      <td>1</td>\n",
       "      <td>1</td>\n",
       "      <td>86226</td>\n",
       "      <td>5</td>\n",
       "      <td>Jeep</td>\n",
       "      <td>12</td>\n",
       "      <td>1970</td>\n",
       "    </tr>\n",
       "    <tr>\n",
       "      <th>1</th>\n",
       "      <td>509</td>\n",
       "      <td>128300.0</td>\n",
       "      <td>13248</td>\n",
       "      <td>4</td>\n",
       "      <td>0</td>\n",
       "      <td>1</td>\n",
       "      <td>13248</td>\n",
       "      <td>5</td>\n",
       "      <td>Renault</td>\n",
       "      <td>26</td>\n",
       "      <td>1970</td>\n",
       "    </tr>\n",
       "    <tr>\n",
       "      <th>2</th>\n",
       "      <td>290</td>\n",
       "      <td>164000.0</td>\n",
       "      <td>60343</td>\n",
       "      <td>4</td>\n",
       "      <td>0</td>\n",
       "      <td>1</td>\n",
       "      <td>60343</td>\n",
       "      <td>5</td>\n",
       "      <td>Toyota</td>\n",
       "      <td>29</td>\n",
       "      <td>1970</td>\n",
       "    </tr>\n",
       "    <tr>\n",
       "      <th>3</th>\n",
       "      <td>912</td>\n",
       "      <td>77700.0</td>\n",
       "      <td>26696</td>\n",
       "      <td>4</td>\n",
       "      <td>0</td>\n",
       "      <td>1</td>\n",
       "      <td>26696</td>\n",
       "      <td>5</td>\n",
       "      <td>Honda</td>\n",
       "      <td>8</td>\n",
       "      <td>1970</td>\n",
       "    </tr>\n",
       "    <tr>\n",
       "      <th>4</th>\n",
       "      <td>1095</td>\n",
       "      <td>51500.0</td>\n",
       "      <td>69414</td>\n",
       "      <td>4</td>\n",
       "      <td>1</td>\n",
       "      <td>1</td>\n",
       "      <td>69414</td>\n",
       "      <td>5</td>\n",
       "      <td>Volkswagen</td>\n",
       "      <td>30</td>\n",
       "      <td>1970</td>\n",
       "    </tr>\n",
       "  </tbody>\n",
       "</table>\n",
       "</div>"
      ],
      "text/plain": [
       "   car_name  car_prices_in_rupee kms_driven  fuel_type  transmission  \\\n",
       "0       426             100300.0      86226          1             1   \n",
       "1       509             128300.0      13248          4             0   \n",
       "2       290             164000.0      60343          4             0   \n",
       "3       912              77700.0      26696          4             0   \n",
       "4      1095              51500.0      69414          4             1   \n",
       "\n",
       "   ownership engine Seats              company_name  manufacture year  \n",
       "0          1  86226     5        Jeep            12              1970  \n",
       "1          1  13248     5     Renault            26              1970  \n",
       "2          1  60343     5      Toyota            29              1970  \n",
       "3          1  26696     5       Honda             8              1970  \n",
       "4          1  69414     5  Volkswagen            30              1970  "
      ]
     },
     "execution_count": 98,
     "metadata": {},
     "output_type": "execute_result"
    }
   ],
   "source": [
    "ds.head()"
   ]
  },
  {
   "cell_type": "markdown",
   "id": "f663e8ee-27e9-4b60-a3fe-9371afa109bc",
   "metadata": {},
   "source": [
    "# Checking_Outlier"
   ]
  },
  {
   "cell_type": "code",
   "execution_count": 101,
   "id": "fce25365-a92d-4fc0-ad56-70a3d5644463",
   "metadata": {},
   "outputs": [
    {
     "data": {
      "image/png": "[encoded data removed]",
      "text/plain": [
       "<Figure size 400x400 with 1 Axes>"
      ]
     },
     "metadata": {},
     "output_type": "display_data"
    }
   ],
   "source": [
    "plt.figure(figsize =(4,4))\n",
    "sns.boxplot(x='car_name',data = ds)\n",
    "plt.show()"
   ]
  },
  {
   "cell_type": "code",
   "execution_count": 102,
   "id": "ea0f12d4-3440-4f90-8700-4ddba8a18aea",
   "metadata": {},
   "outputs": [],
   "source": [
    "# I just show how to check outlier , but here not need to check\n",
    "# It's depend upon our data"
   ]
  }
 ],
 "metadata": {
  "kernelspec": {
   "display_name": "Python 3 (ipykernel)",
   "language": "python",
   "name": "python3"
  },
  "language_info": {
   "codemirror_mode": {
    "name": "ipython",
    "version": 3
   },
   "file_extension": ".py",
   "mimetype": "text/x-python",
   "name": "python",
   "nbconvert_exporter": "python",
   "pygments_lexer": "ipython3",
   "version": "3.12.2"
  }
 },
 "nbformat": 4,
 "nbformat_minor": 5
}
